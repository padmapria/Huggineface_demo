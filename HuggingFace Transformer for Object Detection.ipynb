{
 "cells": [
  {
   "cell_type": "markdown",
   "id": "4c9af758",
   "metadata": {},
   "source": [
    "# Transformer for object detection"
   ]
  },
  {
   "cell_type": "markdown",
   "id": "56a763a1",
   "metadata": {},
   "source": [
    "# way1 simple way (only returns objects with over 90 percent accuracy)"
   ]
  },
  {
   "cell_type": "code",
   "execution_count": 6,
   "id": "f8b4bb05",
   "metadata": {},
   "outputs": [
    {
     "data": {
      "text/plain": [
       "[{'score': 0.9075493216514587,\n",
       "  'label': 'truck',\n",
       "  'box': {'xmin': 620, 'ymin': 147, 'xmax': 641, 'ymax': 177}},\n",
       " {'score': 0.9951134324073792,\n",
       "  'label': 'car',\n",
       "  'box': {'xmin': 1367, 'ymin': 627, 'xmax': 1546, 'ymax': 757}},\n",
       " {'score': 0.9889329671859741,\n",
       "  'label': 'car',\n",
       "  'box': {'xmin': 1063, 'ymin': 385, 'xmax': 1164, 'ymax': 451}},\n",
       " {'score': 0.9581573009490967,\n",
       "  'label': 'car',\n",
       "  'box': {'xmin': 572, 'ymin': 246, 'xmax': 617, 'ymax': 281}},\n",
       " {'score': 0.9419158101081848,\n",
       "  'label': 'truck',\n",
       "  'box': {'xmin': 727, 'ymin': 552, 'xmax': 867, 'ymax': 684}},\n",
       " {'score': 0.9308367967605591,\n",
       "  'label': 'truck',\n",
       "  'box': {'xmin': 1110, 'ymin': 339, 'xmax': 1186, 'ymax': 410}},\n",
       " {'score': 0.9344722628593445,\n",
       "  'label': 'truck',\n",
       "  'box': {'xmin': 458, 'ymin': 372, 'xmax': 608, 'ymax': 578}},\n",
       " {'score': 0.9239617586135864,\n",
       "  'label': 'truck',\n",
       "  'box': {'xmin': 458, 'ymin': 372, 'xmax': 597, 'ymax': 577}},\n",
       " {'score': 0.985849916934967,\n",
       "  'label': 'truck',\n",
       "  'box': {'xmin': 863, 'ymin': 263, 'xmax': 921, 'ymax': 314}},\n",
       " {'score': 0.9817823767662048,\n",
       "  'label': 'truck',\n",
       "  'box': {'xmin': 573, 'ymin': 686, 'xmax': 929, 'ymax': 1072}},\n",
       " {'score': 0.9910668730735779,\n",
       "  'label': 'car',\n",
       "  'box': {'xmin': 911, 'ymin': 347, 'xmax': 996, 'ymax': 409}},\n",
       " {'score': 0.9842488169670105,\n",
       "  'label': 'car',\n",
       "  'box': {'xmin': 883, 'ymin': 559, 'xmax': 1028, 'ymax': 667}}]"
      ]
     },
     "execution_count": 6,
     "metadata": {},
     "output_type": "execute_result"
    }
   ],
   "source": [
    "import requests\n",
    "from PIL import Image\n",
    "from transformers import pipeline\n",
    "\n",
    "object_detector = pipeline('object-detection', model=\"facebook/detr-resnet-50\")\n",
    "\n",
    "# Download an image with cute cats\n",
    "url = \"https://huggingface.co/datasets/huggingface/documentation-images/resolve/main/coco_sample.png\"\n",
    "image_data = requests.get(url, stream=True).raw\n",
    "image = Image.open(image_data)\n",
    "\n",
    "# Allocate a pipeline for object detection\n",
    "object_detector(image)"
   ]
  },
  {
   "cell_type": "code",
   "execution_count": 59,
   "id": "795ce910",
   "metadata": {},
   "outputs": [],
   "source": [
    "#https://github.com/christianversloot/machine-learning-articles/blob/main/easy-object-detection-with-python-huggingface-transformers-and-machine-learning.md\n",
    "# Draw bounding box definition\n",
    "from PIL import Image, ImageDraw, ImageFont\n",
    "def draw_bounding_box(im, score, label, xmin, ymin, xmax, ymax, index, num_boxes):\n",
    "\t\"\"\" Draw a bounding box. \"\"\"\n",
    "\n",
    "\tprint(f\"Drawing bounding box {index} of {num_boxes}...\")\n",
    "\n",
    "\t# Draw the actual bounding box\n",
    "\tim_with_rectangle = ImageDraw.Draw(im)  \n",
    "\tim_with_rectangle.rounded_rectangle((xmin, ymin, xmax, ymax), outline = \"red\", width = 5, radius = 10)\n",
    "\n",
    "\t# Draw the label\n",
    "\tim_with_rectangle.text((xmin+35, ymin-25), label, fill=\"white\", stroke_fill = \"red\")\n",
    "    \n",
    "\t# Return the intermediate result\n",
    "\treturn im"
   ]
  },
  {
   "cell_type": "code",
   "execution_count": 81,
   "id": "5542b5f2",
   "metadata": {},
   "outputs": [
    {
     "name": "stdout",
     "output_type": "stream",
     "text": [
      "Drawing bounding box 0 of 12...\n",
      "Drawing bounding box 1 of 12...\n",
      "Drawing bounding box 2 of 12...\n",
      "Drawing bounding box 3 of 12...\n",
      "Drawing bounding box 4 of 12...\n",
      "Drawing bounding box 5 of 12...\n",
      "Drawing bounding box 6 of 12...\n",
      "Drawing bounding box 7 of 12...\n",
      "Drawing bounding box 8 of 12...\n",
      "Drawing bounding box 9 of 12...\n",
      "Drawing bounding box 10 of 12...\n",
      "Drawing bounding box 11 of 12...\n",
      "Done!\n"
     ]
    }
   ],
   "source": [
    "# Open the image\n",
    "url = \"https://images.data.gov.sg/api/traffic-images/2022/03/881b8734-cca2-49d2-844f-96f16e53a1ac.jpg\"\n",
    "image_data = requests.get(url, stream=True).raw\n",
    "im = Image.open(image_data)\n",
    "\n",
    "with im:\n",
    "    # Perform object detection\n",
    "    bounding_boxes = object_detector(im)\n",
    "\n",
    "    # Iteration elements\n",
    "    num_boxes = len(bounding_boxes)\n",
    "    index = 0\n",
    "\n",
    "    # Draw bounding box for each result\n",
    "    for bounding_box in bounding_boxes:\n",
    "\n",
    "        # Get actual box\n",
    "        box = bounding_box[\"box\"]\n",
    "       \n",
    "        # Draw the bounding box\n",
    "        im = draw_bounding_box(im, bounding_box[\"score\"], bounding_box[\"label\"],\\\n",
    "                               box[\"xmin\"], box[\"ymin\"], box[\"xmax\"], box[\"ymax\"], index, num_boxes)\n",
    "        \n",
    "        # Increase index by one\n",
    "        index += 1\n",
    "\n",
    "    # Save image\n",
    "    im.save(\"street_bboxes.jpg\")\n",
    "    print(\"Done!\")"
   ]
  },
  {
   "cell_type": "markdown",
   "id": "aa349214",
   "metadata": {},
   "source": [
    "# Way2:  Detect object, returns objects on all accuracy, set threshold and filter it as per our need"
   ]
  },
  {
   "cell_type": "code",
   "execution_count": 89,
   "id": "eee23d0a",
   "metadata": {},
   "outputs": [],
   "source": [
    "# Draw bounding box definition\n",
    "from PIL import Image, ImageDraw, ImageFont\n",
    "def draw_bbox_without_total_items(im, score, label, xmin, ymin, xmax, ymax):\n",
    "\n",
    "\t# Draw the actual bounding box\n",
    "\tim_with_rectangle = ImageDraw.Draw(im)  \n",
    "\tim_with_rectangle.rounded_rectangle((xmin, ymin, xmax, ymax), outline = \"red\", width = 2, radius = 5)\n",
    "\n",
    "\t# Draw the label\n",
    "\tim_with_rectangle.text((xmin+35, ymin-25), label, fill=\"white\", stroke_fill = \"red\")\n",
    "    \n",
    "\t# Return the intermediate result\n",
    "\treturn im"
   ]
  },
  {
   "cell_type": "code",
   "execution_count": 101,
   "id": "52fa4d40",
   "metadata": {},
   "outputs": [],
   "source": [
    "#https://huggingface.co/facebook/detr-resnet-50\n",
    "from transformers import DetrFeatureExtractor, DetrForObjectDetection\n",
    "import torch\n",
    "from PIL import Image\n",
    "import requests\n",
    "\n",
    "feature_extractor = DetrFeatureExtractor.from_pretrained(\"facebook/detr-resnet-50\")\n",
    "model = DetrForObjectDetection.from_pretrained(\"facebook/detr-resnet-50\")\n",
    "DETECTION_THRESHOLD = 0.4\n",
    "NEEDED_LABELS = [\"bus\", \"car\", \"truck\"]\n",
    "\n",
    "def detect_object(image):\n",
    "    inputs = feature_extractor(images=image, return_tensors=\"pt\")\n",
    "    outputs = model(**inputs)\n",
    "\n",
    "    # convert outputs (bounding boxes and class logits) to COCO API\n",
    "    target_sizes = torch.tensor([image.size[::-1]])\n",
    "    results = feature_extractor.post_process(outputs, target_sizes=target_sizes)[0]\n",
    "    return results\n",
    "\n",
    "##https://github.com/huggingface/transformers/blob/main/src/transformers/pipelines/object_detection.py\n",
    "\n",
    "def save_bounding_box_as_img(im, results, filename):\n",
    "    with im:\n",
    "        for score, label, boxlist in zip(results[\"scores\"], results[\"labels\"], results[\"boxes\"]):\n",
    "            # let's only keep detections with score > DETECTION_THRESHOLD\n",
    "            \n",
    "            label = model.config.id2label[label.item()]\n",
    "            \n",
    "            if (score > DETECTION_THRESHOLD and label in NEEDED_LABELS):   \n",
    "                \n",
    "                box = [int(i) for i in boxlist.tolist()]\n",
    "\n",
    "                # Get actual box\n",
    "                # Draw the bounding box\n",
    "                im = draw_bbox_without_total_items(im, score.item(), label,  \n",
    "                                                           box[0], box[1], box[2], box[3])\n",
    "\n",
    "                print(f\"Detected {label} with confidence \"\n",
    "                    f\"{round(score.item(), 3)} at location {box}\")\n",
    "        # Save image\n",
    "        im.save(filename)\n",
    "\n",
    "        # Done\n",
    "        print(\"Done!\")"
   ]
  },
  {
   "cell_type": "code",
   "execution_count": 102,
   "id": "55653043",
   "metadata": {},
   "outputs": [
    {
     "name": "stdout",
     "output_type": "stream",
     "text": [
      "Detected car with confidence 0.484 at location [700, 193, 732, 216]\n",
      "Detected truck with confidence 0.653 at location [696, 167, 724, 193]\n",
      "Detected truck with confidence 0.908 at location [620, 147, 641, 177]\n",
      "Detected car with confidence 0.79 at location [728, 553, 866, 683]\n",
      "Detected truck with confidence 0.859 at location [742, 244, 793, 287]\n",
      "Detected car with confidence 0.646 at location [555, 215, 589, 246]\n",
      "Detected car with confidence 0.575 at location [546, 151, 570, 171]\n",
      "Detected car with confidence 0.562 at location [509, 153, 530, 171]\n",
      "Detected car with confidence 0.995 at location [1367, 627, 1546, 757]\n",
      "Detected car with confidence 0.517 at location [487, 168, 510, 192]\n",
      "Detected car with confidence 0.615 at location [482, 153, 502, 172]\n",
      "Detected truck with confidence 0.536 at location [1069, 315, 1127, 379]\n",
      "Detected car with confidence 0.485 at location [563, 154, 585, 172]\n",
      "Detected car with confidence 0.989 at location [1063, 385, 1164, 451]\n",
      "Detected car with confidence 0.625 at location [972, 294, 1000, 324]\n",
      "Detected car with confidence 0.958 at location [572, 246, 617, 281]\n",
      "Detected truck with confidence 0.515 at location [676, 166, 705, 192]\n",
      "Detected truck with confidence 0.868 at location [433, 184, 457, 219]\n",
      "Detected truck with confidence 0.942 at location [727, 552, 867, 684]\n",
      "Detected car with confidence 0.775 at location [656, 194, 686, 219]\n",
      "Detected truck with confidence 0.488 at location [484, 202, 518, 239]\n",
      "Detected truck with confidence 0.728 at location [569, 239, 613, 277]\n",
      "Detected truck with confidence 0.442 at location [975, 293, 1002, 324]\n",
      "Detected truck with confidence 0.931 at location [1110, 339, 1186, 410]\n",
      "Detected car with confidence 0.579 at location [858, 261, 914, 310]\n",
      "Detected car with confidence 0.593 at location [434, 186, 458, 219]\n",
      "Detected truck with confidence 0.827 at location [599, 377, 698, 476]\n",
      "Detected car with confidence 0.493 at location [1063, 320, 1105, 370]\n",
      "Detected car with confidence 0.75 at location [556, 212, 590, 242]\n",
      "Detected car with confidence 0.458 at location [607, 154, 631, 176]\n",
      "Detected truck with confidence 0.853 at location [1073, 318, 1165, 396]\n",
      "Detected truck with confidence 0.579 at location [564, 201, 594, 228]\n",
      "Detected truck with confidence 0.504 at location [455, 231, 497, 287]\n",
      "Detected truck with confidence 0.567 at location [749, 248, 796, 289]\n",
      "Detected car with confidence 0.869 at location [711, 216, 751, 245]\n",
      "Detected car with confidence 0.53 at location [575, 154, 600, 174]\n",
      "Detected truck with confidence 0.934 at location [458, 372, 608, 578]\n",
      "Detected car with confidence 0.418 at location [477, 149, 497, 167]\n",
      "Detected car with confidence 0.59 at location [487, 174, 515, 205]\n",
      "Detected car with confidence 0.402 at location [565, 154, 585, 172]\n",
      "Detected truck with confidence 0.652 at location [571, 241, 614, 277]\n",
      "Detected truck with confidence 0.924 at location [458, 372, 597, 577]\n",
      "Detected car with confidence 0.797 at location [540, 193, 568, 221]\n",
      "Detected truck with confidence 0.859 at location [452, 229, 496, 284]\n",
      "Detected car with confidence 0.447 at location [635, 183, 663, 207]\n",
      "Detected truck with confidence 0.834 at location [433, 184, 458, 218]\n",
      "Detected truck with confidence 0.657 at location [658, 194, 690, 220]\n",
      "Detected truck with confidence 0.688 at location [636, 157, 659, 185]\n",
      "Detected truck with confidence 0.865 at location [498, 195, 529, 232]\n",
      "Detected truck with confidence 0.986 at location [863, 263, 921, 314]\n",
      "Detected truck with confidence 0.982 at location [573, 686, 929, 1072]\n",
      "Detected car with confidence 0.82 at location [743, 247, 791, 289]\n",
      "Detected car with confidence 0.991 at location [911, 347, 996, 409]\n",
      "Detected bus with confidence 0.438 at location [1104, 338, 1185, 411]\n",
      "Detected car with confidence 0.984 at location [883, 559, 1028, 667]\n",
      "Detected truck with confidence 0.89 at location [482, 186, 514, 229]\n",
      "Detected truck with confidence 0.658 at location [705, 168, 732, 193]\n",
      "Done!\n"
     ]
    }
   ],
   "source": [
    "url = \"https://images.data.gov.sg/api/traffic-images/2022/03/881b8734-cca2-49d2-844f-96f16e53a1ac.jpg\"\n",
    "image = Image.open(requests.get(url, stream=True).raw)\n",
    "\n",
    "result = detect_object(image)\n",
    "save_bounding_box_as_img(image, result, \"street_bboxes_0.4.jpg\")"
   ]
  },
  {
   "cell_type": "markdown",
   "id": "39fba868",
   "metadata": {},
   "source": [
    "# way3 using Google pretrained, we can pass labels (only for indoor objects)"
   ]
  },
  {
   "cell_type": "code",
   "execution_count": null,
   "id": "0d9d31e9",
   "metadata": {},
   "outputs": [],
   "source": [
    "# For labels refer the link https://www.lvisdataset.org/dataset\n",
    "#https://github.com/google-research/scenic/blob/main/scenic/projects/owl_vit/preprocessing/label_ops.py"
   ]
  },
  {
   "cell_type": "code",
   "execution_count": 84,
   "id": "ac4ded4c",
   "metadata": {},
   "outputs": [],
   "source": [
    "import requests\n",
    "from PIL import Image\n",
    "import torch\n",
    "\n",
    "#https://huggingface.co/docs/transformers/model_doc/owlvit\n",
    "from transformers import OwlViTProcessor, OwlViTForObjectDetection\n",
    "\n",
    "processor = OwlViTProcessor.from_pretrained(\"google/owlvit-base-patch32\")\n",
    "model = OwlViTForObjectDetection.from_pretrained(\"google/owlvit-base-patch32\")\n",
    "DETECTION_THRESHOLD = 0.25"
   ]
  },
  {
   "cell_type": "code",
   "execution_count": 85,
   "id": "f803d54d",
   "metadata": {},
   "outputs": [],
   "source": [
    "def detect_object_OwlViT(image, texts):\n",
    "    inputs = processor(text=texts, images=image, return_tensors=\"pt\")\n",
    "    outputs = model(**inputs)\n",
    "\n",
    "    # Target image sizes (height, width) to rescale box predictions [batch_size, 2]\n",
    "    target_sizes = torch.Tensor([image.size[::-1]])\n",
    "    \n",
    "    # Convert outputs (bounding boxes and class logits) to COCO API\n",
    "    results = processor.post_process(outputs=outputs, target_sizes=target_sizes)\n",
    "    \n",
    "    return results\n",
    "\n",
    "def save_bb(im, texts, results, filename):\n",
    "    with im:\n",
    "        for i in range(len(texts)):\n",
    "            text = texts[i]\n",
    "            boxes, scores, labels = results[i][\"boxes\"], results[i][\"scores\"], results[i][\"labels\"]\n",
    "\n",
    "            for score, label, boxlist in zip(scores, labels, boxes):\n",
    "                # let's only keep detections with score > DETECTION_THRESHOLD\n",
    "                if score > DETECTION_THRESHOLD:\n",
    "                    box = [int(i) for i in boxlist.tolist()]\n",
    "\n",
    "                    # Get actual box\n",
    "                    # Draw the bounding box\n",
    "                    im = draw_bbox_without_total_items(im, score.item(), text[label],  \n",
    "                                                               box[0], box[1], box[2], box[3])\n",
    "\n",
    "                    print(f\"Detected {text[label]} with confidence \"\n",
    "                        f\"{round(score.item(), 3)} at location {box}\")\n",
    "        # Save image\n",
    "        im.save(filename)\n",
    "\n",
    "        # Done\n",
    "        print(\"Done!\")"
   ]
  },
  {
   "cell_type": "code",
   "execution_count": 86,
   "id": "e001bf58",
   "metadata": {},
   "outputs": [
    {
     "name": "stdout",
     "output_type": "stream",
     "text": [
      "Detected cat with confidence 0.287 at location [324, 20, 640, 373]\n",
      "Detected cat with confidence 0.254 at location [1, 55, 315, 472]\n",
      "Done!\n"
     ]
    }
   ],
   "source": [
    "url = \"http://images.cocodataset.org/val2017/000000039769.jpg\"\n",
    "image = Image.open(requests.get(url, stream=True).raw)\n",
    "texts = [[\"cat\", \"dog\"]]\n",
    "\n",
    "results = detect_object_OwlViT(image, texts)\n",
    "save_bb(image, texts, results, \"temp.jpg\")"
   ]
  },
  {
   "cell_type": "code",
   "execution_count": null,
   "id": "6095ed3b",
   "metadata": {},
   "outputs": [],
   "source": []
  }
 ],
 "metadata": {
  "kernelspec": {
   "display_name": "Python 3 (ipykernel)",
   "language": "python",
   "name": "python3"
  },
  "language_info": {
   "codemirror_mode": {
    "name": "ipython",
    "version": 3
   },
   "file_extension": ".py",
   "mimetype": "text/x-python",
   "name": "python",
   "nbconvert_exporter": "python",
   "pygments_lexer": "ipython3",
   "version": "3.9.7"
  }
 },
 "nbformat": 4,
 "nbformat_minor": 5
}
